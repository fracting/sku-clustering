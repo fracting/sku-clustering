{
 "cells": [
  {
   "cell_type": "markdown",
   "id": "2f2bdc7f",
   "metadata": {},
   "source": [
    "# Exploratory data analysis (2)\n",
    "\n",
    "\n",
    "# Part 2: Connecting word count, Zipf's law and TF-IDF\n",
    "\n",
    "In the previous chapter we detected a bunch of data corruption using word count.\n",
    "\n",
    "In this chapter we will continue using word count and will explain:\n",
    " * why further data cleaning is still necessary\n",
    " * why TF-IDF is a good start for the given dataset (after cleaning)\n",
    "\n",
    "The dataset file was not uploaded to this github repo for information safety consideration."
   ]
  },
  {
   "cell_type": "code",
   "execution_count": 1,
   "id": "726ea2b4",
   "metadata": {},
   "outputs": [],
   "source": [
    "import pandas as pd\n",
    "\n",
    "df_sku = pd.read_json('exercise2.jl', lines=True)"
   ]
  },
  {
   "cell_type": "markdown",
   "id": "58572bd1",
   "metadata": {},
   "source": [
    "**We start with removing corrupted data from the dataset**\n",
    "\n",
    "According to previous chapter, the dataset was corrupted.\n",
    "\n",
    "A description text containing 19 words were repeated for 6000 times (over 23% of the dataset).\n",
    "\n",
    "This will pollute the statistic result, we want to get rid of it."
   ]
  },
  {
   "cell_type": "code",
   "execution_count": 2,
   "id": "45546fc1",
   "metadata": {},
   "outputs": [],
   "source": [
    "def word_count(text):\n",
    "    return len(text.split())\n",
    "\n",
    "df_sku['long_desc_wc'] = df_sku['long_description'].apply(word_count)\n",
    "df_sku_clean = df_sku[df_sku['long_desc_wc'] != 19]"
   ]
  },
  {
   "cell_type": "markdown",
   "id": "98423c95",
   "metadata": {},
   "source": [
    "**Next we build a vocaburary from all product descriptions**"
   ]
  },
  {
   "cell_type": "code",
   "execution_count": 3,
   "id": "ab4ab3cd",
   "metadata": {},
   "outputs": [],
   "source": [
    "# Extract all text from `long_description` column to an python array\n",
    "long_desc_array = df_sku_clean['long_description'].values.tolist()\n",
    "\n",
    "# Merge all text in the array to a long text buffer\n",
    "long_desc = ' '.join(long_desc_array)\n",
    "\n",
    "# Split the text buffer to a list of words\n",
    "desc_words = long_desc.split()\n",
    "\n",
    "# Convert the list of words to a pandas dataframe for further analysis\n",
    "desc_vocabulary = pd.DataFrame({'word': desc_words})"
   ]
  },
  {
   "cell_type": "code",
   "execution_count": 4,
   "id": "fa7571f7",
   "metadata": {},
   "outputs": [
    {
     "data": {
      "text/html": [
       "<div>\n",
       "<style scoped>\n",
       "    .dataframe tbody tr th:only-of-type {\n",
       "        vertical-align: middle;\n",
       "    }\n",
       "\n",
       "    .dataframe tbody tr th {\n",
       "        vertical-align: top;\n",
       "    }\n",
       "\n",
       "    .dataframe thead th {\n",
       "        text-align: right;\n",
       "    }\n",
       "</style>\n",
       "<table border=\"1\" class=\"dataframe\">\n",
       "  <thead>\n",
       "    <tr style=\"text-align: right;\">\n",
       "      <th></th>\n",
       "      <th>word</th>\n",
       "    </tr>\n",
       "  </thead>\n",
       "  <tbody>\n",
       "    <tr>\n",
       "      <th>0</th>\n",
       "      <td>&lt;p&gt;Multicoloured</td>\n",
       "    </tr>\n",
       "    <tr>\n",
       "      <th>1</th>\n",
       "      <td>laptop</td>\n",
       "    </tr>\n",
       "    <tr>\n",
       "      <th>2</th>\n",
       "      <td>bag</td>\n",
       "    </tr>\n",
       "    <tr>\n",
       "      <th>3</th>\n",
       "      <td>detailed</td>\n",
       "    </tr>\n",
       "    <tr>\n",
       "      <th>4</th>\n",
       "      <td>with</td>\n",
       "    </tr>\n",
       "    <tr>\n",
       "      <th>...</th>\n",
       "      <td>...</td>\n",
       "    </tr>\n",
       "    <tr>\n",
       "      <th>1036857</th>\n",
       "      <td>regular</td>\n",
       "    </tr>\n",
       "    <tr>\n",
       "      <th>1036858</th>\n",
       "      <td>fit.</td>\n",
       "    </tr>\n",
       "    <tr>\n",
       "      <th>1036859</th>\n",
       "      <td>Composition:</td>\n",
       "    </tr>\n",
       "    <tr>\n",
       "      <th>1036860</th>\n",
       "      <td>100%</td>\n",
       "    </tr>\n",
       "    <tr>\n",
       "      <th>1036861</th>\n",
       "      <td>Cotton</td>\n",
       "    </tr>\n",
       "  </tbody>\n",
       "</table>\n",
       "<p>1036862 rows × 1 columns</p>\n",
       "</div>"
      ],
      "text/plain": [
       "                     word\n",
       "0        <p>Multicoloured\n",
       "1                  laptop\n",
       "2                     bag\n",
       "3                detailed\n",
       "4                    with\n",
       "...                   ...\n",
       "1036857           regular\n",
       "1036858              fit.\n",
       "1036859      Composition:\n",
       "1036860              100%\n",
       "1036861            Cotton\n",
       "\n",
       "[1036862 rows x 1 columns]"
      ]
     },
     "execution_count": 4,
     "metadata": {},
     "output_type": "execute_result"
    }
   ],
   "source": [
    "desc_vocabulary"
   ]
  },
  {
   "cell_type": "markdown",
   "id": "773e7e11",
   "metadata": {},
   "source": [
    "**Now it's time to perform another word count**"
   ]
  },
  {
   "cell_type": "code",
   "execution_count": 5,
   "id": "c637a410",
   "metadata": {},
   "outputs": [
    {
     "data": {
      "text/html": [
       "<div>\n",
       "<style scoped>\n",
       "    .dataframe tbody tr th:only-of-type {\n",
       "        vertical-align: middle;\n",
       "    }\n",
       "\n",
       "    .dataframe tbody tr th {\n",
       "        vertical-align: top;\n",
       "    }\n",
       "\n",
       "    .dataframe thead th {\n",
       "        text-align: right;\n",
       "    }\n",
       "</style>\n",
       "<table border=\"1\" class=\"dataframe\">\n",
       "  <thead>\n",
       "    <tr style=\"text-align: right;\">\n",
       "      <th></th>\n",
       "      <th>word</th>\n",
       "      <th>cnt</th>\n",
       "    </tr>\n",
       "  </thead>\n",
       "  <tbody>\n",
       "    <tr>\n",
       "      <th>0</th>\n",
       "      <td>and</td>\n",
       "      <td>31276</td>\n",
       "    </tr>\n",
       "    <tr>\n",
       "      <th>1</th>\n",
       "      <td>the</td>\n",
       "      <td>22905</td>\n",
       "    </tr>\n",
       "    <tr>\n",
       "      <th>2</th>\n",
       "      <td>a</td>\n",
       "      <td>21549</td>\n",
       "    </tr>\n",
       "    <tr>\n",
       "      <th>3</th>\n",
       "      <td>in</td>\n",
       "      <td>16400</td>\n",
       "    </tr>\n",
       "    <tr>\n",
       "      <th>4</th>\n",
       "      <td>with</td>\n",
       "      <td>15850</td>\n",
       "    </tr>\n",
       "    <tr>\n",
       "      <th>...</th>\n",
       "      <td>...</td>\n",
       "      <td>...</td>\n",
       "    </tr>\n",
       "    <tr>\n",
       "      <th>58159</th>\n",
       "      <td>edges&lt;br&gt;Rear</td>\n",
       "      <td>1</td>\n",
       "    </tr>\n",
       "    <tr>\n",
       "      <th>58160</th>\n",
       "      <td>edges&lt;br&gt;Purple</td>\n",
       "      <td>1</td>\n",
       "    </tr>\n",
       "    <tr>\n",
       "      <th>58161</th>\n",
       "      <td>FAMF-WC7&lt;/li&gt;</td>\n",
       "      <td>1</td>\n",
       "    </tr>\n",
       "    <tr>\n",
       "      <th>58162</th>\n",
       "      <td>edges&lt;br&gt;Lil</td>\n",
       "      <td>1</td>\n",
       "    </tr>\n",
       "    <tr>\n",
       "      <th>58163</th>\n",
       "      <td>improvement.</td>\n",
       "      <td>1</td>\n",
       "    </tr>\n",
       "  </tbody>\n",
       "</table>\n",
       "<p>58164 rows × 2 columns</p>\n",
       "</div>"
      ],
      "text/plain": [
       "                  word    cnt\n",
       "0                  and  31276\n",
       "1                  the  22905\n",
       "2                    a  21549\n",
       "3                   in  16400\n",
       "4                 with  15850\n",
       "...                ...    ...\n",
       "58159    edges<br>Rear      1\n",
       "58160  edges<br>Purple      1\n",
       "58161    FAMF-WC7</li>      1\n",
       "58162     edges<br>Lil      1\n",
       "58163     improvement.      1\n",
       "\n",
       "[58164 rows x 2 columns]"
      ]
     },
     "execution_count": 5,
     "metadata": {},
     "output_type": "execute_result"
    }
   ],
   "source": [
    "desc_vocabulary_wc = desc_vocabulary.value_counts().reset_index('word', name='cnt')\n",
    "desc_vocabulary_wc"
   ]
  },
  {
   "cell_type": "markdown",
   "id": "d4f767e4",
   "metadata": {},
   "source": [
    "**Let's have a look at the distribution of the vocabulary**"
   ]
  },
  {
   "cell_type": "code",
   "execution_count": 6,
   "id": "223f8353",
   "metadata": {},
   "outputs": [
    {
     "data": {
      "text/plain": [
       "array([[<AxesSubplot:title={'center':'cnt'}>]], dtype=object)"
      ]
     },
     "execution_count": 6,
     "metadata": {},
     "output_type": "execute_result"
    },
    {
     "data": {
      "image/png": "[encoded data removed]",
      "text/plain": [
       "<Figure size 576x432 with 1 Axes>"
      ]
     },
     "metadata": {
      "needs_background": "light"
     },
     "output_type": "display_data"
    }
   ],
   "source": [
    "# Log chart works better for extremely unbalanced distribution\n",
    "desc_vocabulary_wc.hist(bins=100, log=True, figsize=(8,6))"
   ]
  },
  {
   "cell_type": "markdown",
   "id": "40b5d5b4",
   "metadata": {},
   "source": [
    "**Important observations**\n",
    "\n",
    "Further investigation reveals following insights:\n",
    "\n",
    " * The vocabulary has an extremely unbalanced distribution.\n",
    " * Tokens in the head appear 10,000 more frequent than tokens in the tail.\n",
    " * Head tokens are **stop words** like `and`, `the`, `a`, `in`, `with`\n",
    " * Tail tokens are gabage like `FAIB-WC31`\n",
    " * html tags like `<br>` also generates significant noise\n",
    " * Similar analysis applying on char level shows puntuctuation are another important source of noise"
   ]
  },
  {
   "cell_type": "markdown",
   "id": "f5db4f09",
   "metadata": {},
   "source": [
    "**Above analysis shows the importance of the following preprocessing steps**\n",
    "\n",
    " * Stop word removal\n",
    " * Feature reduction, discard tail tokens\n",
    " * HTML tag removal\n",
    " * Puntuctuation removal\n",
    " \n",
    "Lack of any above step will cause significant harm in downstream tasks."
   ]
  },
  {
   "cell_type": "markdown",
   "id": "4d5d2a9c",
   "metadata": {},
   "source": [
    "### Why TF-IDF?**\n",
    "\n",
    "It's widely known that TF-IDF is commonly used in NLP tasks, but it's not obvious why use TF-IDF.\n",
    "\n",
    "This section introduces an important empirical law observed in natural language corpus:\n",
    "\n",
    " * [**Zipf's law**](https://en.wikipedia.org/wiki/Zipf%27s_law)\n",
    "\n",
    "After that we will test whether our dataset follows **Zipf's law**\n",
    "\n",
    "Finally we will present a high level intuition connecting **TF-IDF** and a slightly different variant of **Zipf's law**"
   ]
  },
  {
   "cell_type": "markdown",
   "id": "ed0ee62b",
   "metadata": {},
   "source": [
    "**Zipf’s law states that the frequency that a word appears is inversely proportional to its rank.**\n",
    "\n",
    "On a log-log scale plot, Zipf's law looks like a straight line with negative slope.\n",
    "\n",
    "Here is a plot of the rank versus frequency for the first 10 million words in 30 Wikipedias in a log-log scale.\n",
    "\n",
    "According to the plot, Wikipedia corpus fits Zipf's law pretty well.\n",
    "\n",
    "<img src=\"images/Zipf_30wiki_en_labels.png\" width=\"550\" align=\"left\">\n"
   ]
  },
  {
   "cell_type": "code",
   "execution_count": 7,
   "id": "dac11150",
   "metadata": {},
   "outputs": [],
   "source": [
    "import math\n",
    "desc_vocabulary_wc['Rank'] = desc_vocabulary_wc.index + 1"
   ]
  },
  {
   "cell_type": "code",
   "execution_count": 8,
   "id": "187fe9f6",
   "metadata": {},
   "outputs": [
    {
     "data": {
      "text/plain": [
       "<AxesSubplot:xlabel='Rank', ylabel='cnt'>"
      ]
     },
     "execution_count": 8,
     "metadata": {},
     "output_type": "execute_result"
    },
    {
     "data": {
      "image/png": "[encoded data removed]",
      "text/plain": [
       "<Figure size 576x576 with 1 Axes>"
      ]
     },
     "metadata": {
      "needs_background": "light"
     },
     "output_type": "display_data"
    }
   ],
   "source": [
    "desc_vocabulary_wc.plot.scatter(x='Rank', y='cnt',loglog=True, figsize=(8,8))"
   ]
  },
  {
   "cell_type": "markdown",
   "id": "8fb623ac",
   "metadata": {},
   "source": [
    "**Comparing with the Wikipedia corpus, we can see the given dataset also fits Zipf's law pretty well**"
   ]
  },
  {
   "cell_type": "markdown",
   "id": "5b465599",
   "metadata": {},
   "source": [
    "**Now we try to connect Zipf's law and TF-IDF in an intuitive way**\n",
    "\n",
    "<img src=\"images/TF_IDF.png\" width=\"550\" align=\"left\">\n",
    "\n",
    "\n",
    "Intuitively, for any corpus follows Zipf's law, the frequency of top tokens are multiple orders of magnitude higher than the frequency of tail tokens. Informally speaking, the logarithm function used in **IDF** will squash this huge gap into a linear scale, which works much better for scoring algorithm."
   ]
  },
  {
   "cell_type": "markdown",
   "id": "7367b5b7",
   "metadata": {},
   "source": [
    "**A callback to chapter 1**\n",
    "\n",
    "In the previous chapter, we applied word count on each row of the `long_description` column.\n",
    "\n",
    "In this chapter, we applied word count on the whole `long_description` column.\n",
    "\n",
    "If we think carefully about how TF-IDF is calculated:\n",
    " * the `TF` part requires counting number of token in each document, in our case every row is a document.\n",
    " * the `IDF` part requires counting number of token in the whole dataset, in our case it means the entire row.\n",
    "    \n",
    "At this point we connect all the dots between data science 101 (word count) and NLP 101 (TF-IDF)!\n",
    "\n",
    "Essentially, TF-IDF is an application of word count in multiple ways.\n",
    "\n",
    "And that leads us to the key point to our exploratory data analysis:\n",
    "\n",
    "We want to validate that the data source we plan to use for TF-IDF is not surprising, and by applying word count on row level and column level, we extracted important information we need.\n",
    "\n",
    "In other words, no single step is arbitrary in our analysis, they all have a reason, and our investment made a good return as shown in this report."
   ]
  },
  {
   "cell_type": "markdown",
   "id": "fdc01f44",
   "metadata": {},
   "source": [
    "### Conclusion\n",
    "\n",
    "**Previous chapter is important**, because:\n",
    "\n",
    " * It points out the data corruption problem in the dataset\n",
    " * It points out several important data cleaning and preprocessing steps required\n",
    " * It validates the `TF` part of TF-IDF\n",
    " \n",
    "**This chapter is important**, because:\n",
    " * It validates the `IDF` part of TF-IDF\n",
    "\n",
    "After proper preprocessing, we can see the clean dataset satisfies usage requirement of TF-IDF\n",
    " \n",
    "These data analysis works establish a solid foundation for downstream tasks.\n",
    "\n",
    "Unfortunately, as we introduced in [**README.md**](https://github.com/fracting/sku-clustering#readme), TF-IDF didn't perform outstandingly as expected.\n",
    "\n",
    "For example the class contains `Jumpsuit` and the class contains `Polo` are likely to mix with each other.\n",
    "\n",
    "For the time limit we don't show details of the TF-IDF model, what **we want to emphasize** is:\n",
    "\n",
    " * With solid data analysis, we can build certain level of confidence for the machine learning algorithm we chose for the given dataset.\n",
    " * If there's nothing wrong with the algorithm (TF-IDF in this case) but the outcome is not great, then we have the confidence to suspect that there exists even more subtle and interesting **problems hiding in the given dataset**.\n",
    " \n",
    "We will leave it as a puzzle for now, and revisit it in the last chapter."
   ]
  },
  {
   "cell_type": "markdown",
   "id": "6a55ad7c",
   "metadata": {},
   "source": [
    "**Next chapter presents another approach based on word embedding**"
   ]
  },
  {
   "cell_type": "code",
   "execution_count": null,
   "id": "b20e85f4",
   "metadata": {},
   "outputs": [],
   "source": []
  }
 ],
 "metadata": {
  "kernelspec": {
   "display_name": "Python 3 (ipykernel)",
   "language": "python",
   "name": "python3"
  },
  "language_info": {
   "codemirror_mode": {
    "name": "ipython",
    "version": 3
   },
   "file_extension": ".py",
   "mimetype": "text/x-python",
   "name": "python",
   "nbconvert_exporter": "python",
   "pygments_lexer": "ipython3",
   "version": "3.8.5"
  }
 },
 "nbformat": 4,
 "nbformat_minor": 5
}
